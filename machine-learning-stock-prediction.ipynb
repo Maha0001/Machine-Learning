{
 "cells": [
  {
   "cell_type": "markdown",
   "id": "6ba8b0ed-9f4d-4f58-8ead-883d7006a9bc",
   "metadata": {},
   "source": [
    "# Predict Stock Prices using Python\n",
    "\n",
    "## Introduction\n",
    "**Project Overview:**\n",
    "\n",
    "This project focuses on predicting Microsoft stock prices using historical data and machine learning. It involves:\n",
    "\n",
    "1. Fetching data from Yahoo Finance.\n",
    "2. Engineering features for predictive modeling.\n",
    "3. Using a Random Forest Classifier to predict stock price movements.\n",
    "4. Evaluating the model with metrics like precision and visualizing the results."
   ]
  },
  {
   "cell_type": "code",
   "execution_count": 1,
   "id": "72f4c2ce-77fb-448a-84bd-88bdd7c9449d",
   "metadata": {
    "collapsed": true,
    "execution": {
     "iopub.execute_input": "2024-11-23T20:53:05.377228Z",
     "iopub.status.busy": "2024-11-23T20:53:05.376886Z",
     "iopub.status.idle": "2024-11-23T20:53:20.925969Z",
     "shell.execute_reply": "2024-11-23T20:53:20.925275Z",
     "shell.execute_reply.started": "2024-11-23T20:53:05.377204Z"
    },
    "jupyter": {
     "outputs_hidden": true
    },
    "scrolled": true
   },
   "outputs": [
    {
     "name": "stdout",
     "output_type": "stream",
     "text": [
      "Collecting yfinance\n",
      "  Downloading yfinance-0.2.50-py2.py3-none-any.whl.metadata (5.5 kB)\n",
      "Requirement already satisfied: pandas>=1.3.0 in /opt/saturncloud/envs/saturn/lib/python3.11/site-packages (from yfinance) (2.2.3)\n",
      "Requirement already satisfied: numpy>=1.16.5 in /opt/saturncloud/envs/saturn/lib/python3.11/site-packages (from yfinance) (1.26.4)\n",
      "Requirement already satisfied: requests>=2.31 in /opt/saturncloud/envs/saturn/lib/python3.11/site-packages (from yfinance) (2.32.3)\n",
      "Collecting multitasking>=0.0.7 (from yfinance)\n",
      "  Downloading multitasking-0.0.11-py3-none-any.whl.metadata (5.5 kB)\n",
      "Collecting lxml>=4.9.1 (from yfinance)\n",
      "  Downloading lxml-5.3.0-cp311-cp311-manylinux_2_28_x86_64.whl.metadata (3.8 kB)\n",
      "Requirement already satisfied: platformdirs>=2.0.0 in /opt/saturncloud/envs/saturn/lib/python3.11/site-packages (from yfinance) (4.3.6)\n",
      "Requirement already satisfied: pytz>=2022.5 in /opt/saturncloud/envs/saturn/lib/python3.11/site-packages (from yfinance) (2024.1)\n",
      "Collecting frozendict>=2.3.4 (from yfinance)\n",
      "  Downloading frozendict-2.4.6-py311-none-any.whl.metadata (23 kB)\n",
      "Collecting peewee>=3.16.2 (from yfinance)\n",
      "  Downloading peewee-3.17.8.tar.gz (948 kB)\n",
      "\u001b[2K     \u001b[90m━━━━━━━━━━━━━━━━━━━━━━━━━━━━━━━━━━━━━━\u001b[0m \u001b[32m948.2/948.2 kB\u001b[0m \u001b[31m31.1 MB/s\u001b[0m eta \u001b[36m0:00:00\u001b[0m\n",
      "\u001b[?25h  Installing build dependencies ... \u001b[?25ldone\n",
      "\u001b[?25h  Getting requirements to build wheel ... \u001b[?25ldone\n",
      "\u001b[?25h  Preparing metadata (pyproject.toml) ... \u001b[?25ldone\n",
      "\u001b[?25hCollecting beautifulsoup4>=4.11.1 (from yfinance)\n",
      "  Using cached beautifulsoup4-4.12.3-py3-none-any.whl.metadata (3.8 kB)\n",
      "Collecting html5lib>=1.1 (from yfinance)\n",
      "  Downloading html5lib-1.1-py2.py3-none-any.whl.metadata (16 kB)\n",
      "Collecting soupsieve>1.2 (from beautifulsoup4>=4.11.1->yfinance)\n",
      "  Using cached soupsieve-2.6-py3-none-any.whl.metadata (4.6 kB)\n",
      "Requirement already satisfied: six>=1.9 in /opt/saturncloud/envs/saturn/lib/python3.11/site-packages (from html5lib>=1.1->yfinance) (1.16.0)\n",
      "Collecting webencodings (from html5lib>=1.1->yfinance)\n",
      "  Downloading webencodings-0.5.1-py2.py3-none-any.whl.metadata (2.1 kB)\n",
      "Requirement already satisfied: python-dateutil>=2.8.2 in /opt/saturncloud/envs/saturn/lib/python3.11/site-packages (from pandas>=1.3.0->yfinance) (2.9.0)\n",
      "Requirement already satisfied: tzdata>=2022.7 in /opt/saturncloud/envs/saturn/lib/python3.11/site-packages (from pandas>=1.3.0->yfinance) (2024.2)\n",
      "Requirement already satisfied: charset-normalizer<4,>=2 in /opt/saturncloud/envs/saturn/lib/python3.11/site-packages (from requests>=2.31->yfinance) (3.4.0)\n",
      "Requirement already satisfied: idna<4,>=2.5 in /opt/saturncloud/envs/saturn/lib/python3.11/site-packages (from requests>=2.31->yfinance) (3.10)\n",
      "Requirement already satisfied: urllib3<3,>=1.21.1 in /opt/saturncloud/envs/saturn/lib/python3.11/site-packages (from requests>=2.31->yfinance) (2.2.3)\n",
      "Requirement already satisfied: certifi>=2017.4.17 in /opt/saturncloud/envs/saturn/lib/python3.11/site-packages (from requests>=2.31->yfinance) (2024.8.30)\n",
      "Downloading yfinance-0.2.50-py2.py3-none-any.whl (102 kB)\n",
      "Using cached beautifulsoup4-4.12.3-py3-none-any.whl (147 kB)\n",
      "Downloading frozendict-2.4.6-py311-none-any.whl (16 kB)\n",
      "Downloading html5lib-1.1-py2.py3-none-any.whl (112 kB)\n",
      "Downloading lxml-5.3.0-cp311-cp311-manylinux_2_28_x86_64.whl (5.0 MB)\n",
      "\u001b[2K   \u001b[90m━━━━━━━━━━━━━━━━━━━━━━━━━━━━━━━━━━━━━━━━\u001b[0m \u001b[32m5.0/5.0 MB\u001b[0m \u001b[31m124.1 MB/s\u001b[0m eta \u001b[36m0:00:00\u001b[0m\n",
      "\u001b[?25hDownloading multitasking-0.0.11-py3-none-any.whl (8.5 kB)\n",
      "Using cached soupsieve-2.6-py3-none-any.whl (36 kB)\n",
      "Downloading webencodings-0.5.1-py2.py3-none-any.whl (11 kB)\n",
      "Building wheels for collected packages: peewee\n",
      "  Building wheel for peewee (pyproject.toml) ... \u001b[?25ldone\n",
      "\u001b[?25h  Created wheel for peewee: filename=peewee-3.17.8-cp311-cp311-linux_x86_64.whl size=300774 sha256=688c748535bbb51015bcb60b65c49d24b38adc4f0b895c72562e596934d39ed5\n",
      "  Stored in directory: /home/jovyan/.cache/pip/wheels/ff/6c/15/506e25bc390de450a7fa53c155cd9b0fbd13ad3e84a9abc183\n",
      "Successfully built peewee\n",
      "Installing collected packages: webencodings, peewee, multitasking, soupsieve, lxml, html5lib, frozendict, beautifulsoup4, yfinance\n",
      "Successfully installed beautifulsoup4-4.12.3 frozendict-2.4.6 html5lib-1.1 lxml-5.3.0 multitasking-0.0.11 peewee-3.17.8 soupsieve-2.6 webencodings-0.5.1 yfinance-0.2.50\n"
     ]
    }
   ],
   "source": [
    "#!pip install yfinance"
   ]
  },
  {
   "cell_type": "markdown",
   "id": "78b8cbc1-d7d3-4a06-85f2-b9525f7de159",
   "metadata": {},
   "source": [
    "## 2. Import Libraries"
   ]
  },
  {
   "cell_type": "code",
   "execution_count": 4,
   "id": "af7ae951-c956-4d1d-8a90-e2265d6cfb58",
   "metadata": {
    "execution": {
     "iopub.execute_input": "2024-11-23T21:00:19.904446Z",
     "iopub.status.busy": "2024-11-23T21:00:19.904102Z",
     "iopub.status.idle": "2024-11-23T21:00:19.908542Z",
     "shell.execute_reply": "2024-11-23T21:00:19.907895Z",
     "shell.execute_reply.started": "2024-11-23T21:00:19.904424Z"
    }
   },
   "outputs": [
    {
     "name": "stdout",
     "output_type": "stream",
     "text": [
      "done!\n"
     ]
    }
   ],
   "source": [
    "# Import necessary libraries\n",
    "import yfinance as yf\n",
    "import pandas as pd\n",
    "import numpy as np\n",
    "from sklearn.ensemble import RandomForestClassifier\n",
    "from sklearn.metrics import precision_score\n",
    "import matplotlib.pyplot as plt\n",
    "import os\n",
    "print(\"done!\")"
   ]
  },
  {
   "cell_type": "markdown",
   "id": "c9856346-3d0a-438a-aff5-230fd1a90450",
   "metadata": {},
   "source": [
    "This cell loads the libraries for data fetching, manipulation, model building, evaluation, and visualization."
   ]
  },
  {
   "cell_type": "markdown",
   "id": "4ad6e8ea-ae91-4518-a4b9-d382cd94ba28",
   "metadata": {},
   "source": [
    "## 3. Download and Save Data"
   ]
  },
  {
   "cell_type": "code",
   "execution_count": 19,
   "id": "74c0fdb1-11b7-4d62-96a9-c570a1fb469a",
   "metadata": {
    "execution": {
     "iopub.execute_input": "2024-11-23T21:31:20.960249Z",
     "iopub.status.busy": "2024-11-23T21:31:20.959908Z",
     "iopub.status.idle": "2024-11-23T21:31:21.002466Z",
     "shell.execute_reply": "2024-11-23T21:31:21.001861Z",
     "shell.execute_reply.started": "2024-11-23T21:31:20.960227Z"
    }
   },
   "outputs": [],
   "source": [
    "# Define the data path\n",
    "DATA_PATH = \"msft_data.json\"\n",
    "\n",
    "# Check if data exists; if not, download and save\n",
    "if not os.path.exists(DATA_PATH):\n",
    "    msft = yf.Ticker(\"MSFT\")\n",
    "    msft_hist = msft.history(period=\"max\")\n",
    "    msft_hist.to_json(DATA_PATH)\n",
    "else:\n",
    "    msft_hist = pd.read_json(DATA_PATH)\n"
   ]
  },
  {
   "cell_type": "markdown",
   "id": "0a586d8e-e33e-4676-b5eb-d7676695626e",
   "metadata": {},
   "source": [
    "- Downloads Microsoft's stock data from Yahoo Finance or loads it if already saved locally. This ensures efficiency by avoiding redundant API calls.\n",
    "- The saved data `(msft_data.json)` can act as a cache, reducing the dependency on continuous internet connectivity. However, the data should be periodically refreshed to reflect market updates."
   ]
  },
  {
   "cell_type": "markdown",
   "id": "3e2b9d23-c1c8-4433-af06-91a1c942ec55",
   "metadata": {},
   "source": [
    "## 4. Explore Data"
   ]
  },
  {
   "cell_type": "code",
   "execution_count": 20,
   "id": "07b41cef-f877-4a9a-9803-3f8c54bcc6d0",
   "metadata": {
    "execution": {
     "iopub.execute_input": "2024-11-23T21:31:26.196504Z",
     "iopub.status.busy": "2024-11-23T21:31:26.196172Z",
     "iopub.status.idle": "2024-11-23T21:31:26.207027Z",
     "shell.execute_reply": "2024-11-23T21:31:26.206344Z",
     "shell.execute_reply.started": "2024-11-23T21:31:26.196482Z"
    }
   },
   "outputs": [
    {
     "data": {
      "text/html": [
       "<div>\n",
       "<style scoped>\n",
       "    .dataframe tbody tr th:only-of-type {\n",
       "        vertical-align: middle;\n",
       "    }\n",
       "\n",
       "    .dataframe tbody tr th {\n",
       "        vertical-align: top;\n",
       "    }\n",
       "\n",
       "    .dataframe thead th {\n",
       "        text-align: right;\n",
       "    }\n",
       "</style>\n",
       "<table border=\"1\" class=\"dataframe\">\n",
       "  <thead>\n",
       "    <tr style=\"text-align: right;\">\n",
       "      <th></th>\n",
       "      <th>Open</th>\n",
       "      <th>High</th>\n",
       "      <th>Low</th>\n",
       "      <th>Close</th>\n",
       "      <th>Volume</th>\n",
       "      <th>Dividends</th>\n",
       "      <th>Stock Splits</th>\n",
       "    </tr>\n",
       "  </thead>\n",
       "  <tbody>\n",
       "    <tr>\n",
       "      <th>1986-03-13 05:00:00</th>\n",
       "      <td>0.054485</td>\n",
       "      <td>0.062498</td>\n",
       "      <td>0.054485</td>\n",
       "      <td>0.059827</td>\n",
       "      <td>1031788800</td>\n",
       "      <td>0.0</td>\n",
       "      <td>0.0</td>\n",
       "    </tr>\n",
       "    <tr>\n",
       "      <th>1986-03-14 05:00:00</th>\n",
       "      <td>0.059827</td>\n",
       "      <td>0.063032</td>\n",
       "      <td>0.059827</td>\n",
       "      <td>0.061963</td>\n",
       "      <td>308160000</td>\n",
       "      <td>0.0</td>\n",
       "      <td>0.0</td>\n",
       "    </tr>\n",
       "    <tr>\n",
       "      <th>1986-03-17 05:00:00</th>\n",
       "      <td>0.061963</td>\n",
       "      <td>0.063566</td>\n",
       "      <td>0.061963</td>\n",
       "      <td>0.063032</td>\n",
       "      <td>133171200</td>\n",
       "      <td>0.0</td>\n",
       "      <td>0.0</td>\n",
       "    </tr>\n",
       "    <tr>\n",
       "      <th>1986-03-18 05:00:00</th>\n",
       "      <td>0.063032</td>\n",
       "      <td>0.063566</td>\n",
       "      <td>0.060895</td>\n",
       "      <td>0.061429</td>\n",
       "      <td>67766400</td>\n",
       "      <td>0.0</td>\n",
       "      <td>0.0</td>\n",
       "    </tr>\n",
       "    <tr>\n",
       "      <th>1986-03-19 05:00:00</th>\n",
       "      <td>0.061429</td>\n",
       "      <td>0.061963</td>\n",
       "      <td>0.059827</td>\n",
       "      <td>0.060361</td>\n",
       "      <td>47894400</td>\n",
       "      <td>0.0</td>\n",
       "      <td>0.0</td>\n",
       "    </tr>\n",
       "  </tbody>\n",
       "</table>\n",
       "</div>"
      ],
      "text/plain": [
       "                         Open      High       Low     Close      Volume  \\\n",
       "1986-03-13 05:00:00  0.054485  0.062498  0.054485  0.059827  1031788800   \n",
       "1986-03-14 05:00:00  0.059827  0.063032  0.059827  0.061963   308160000   \n",
       "1986-03-17 05:00:00  0.061963  0.063566  0.061963  0.063032   133171200   \n",
       "1986-03-18 05:00:00  0.063032  0.063566  0.060895  0.061429    67766400   \n",
       "1986-03-19 05:00:00  0.061429  0.061963  0.059827  0.060361    47894400   \n",
       "\n",
       "                     Dividends  Stock Splits  \n",
       "1986-03-13 05:00:00        0.0           0.0  \n",
       "1986-03-14 05:00:00        0.0           0.0  \n",
       "1986-03-17 05:00:00        0.0           0.0  \n",
       "1986-03-18 05:00:00        0.0           0.0  \n",
       "1986-03-19 05:00:00        0.0           0.0  "
      ]
     },
     "execution_count": 20,
     "metadata": {},
     "output_type": "execute_result"
    }
   ],
   "source": [
    "# Display the first few rows\n",
    "msft_hist.head()\n"
   ]
  },
  {
   "cell_type": "markdown",
   "id": "c17cd530-03ab-4480-9ac3-3e65a10acc5d",
   "metadata": {},
   "source": [
    "- Displays the first five rows of the dataset to understand its structure and columns like Open, High, Low, Close, Volume, etc.\n",
    "- The dataset includes essential metrics for analyzing price trends and patterns."
   ]
  },
  {
   "cell_type": "markdown",
   "id": "5e110359-a0d0-461e-b083-7c89525db055",
   "metadata": {},
   "source": [
    "## 5. visualize closing Prices"
   ]
  },
  {
   "cell_type": "code",
   "execution_count": 21,
   "id": "5c6f1eb7-75fd-44b5-939d-d0e8b172ad6a",
   "metadata": {
    "execution": {
     "iopub.execute_input": "2024-11-23T21:33:00.601772Z",
     "iopub.status.busy": "2024-11-23T21:33:00.601433Z",
     "iopub.status.idle": "2024-11-23T21:33:00.784120Z",
     "shell.execute_reply": "2024-11-23T21:33:00.783301Z",
     "shell.execute_reply.started": "2024-11-23T21:33:00.601751Z"
    }
   },
   "outputs": [
    {
     "data": {
      "image/png": "[encoded data removed]",
      "text/plain": [
       "<Figure size 1000x600 with 1 Axes>"
      ]
     },
     "metadata": {},
     "output_type": "display_data"
    }
   ],
   "source": [
    "# Plot closing prices over time\n",
    "msft_hist['Close'].plot(title=\"Microsoft Stock Closing Prices\", figsize=(10, 6))\n",
    "plt.show()\n"
   ]
  },
  {
   "cell_type": "markdown",
   "id": "a67584ce-eee0-4c65-8c9c-aa5069615824",
   "metadata": {},
   "source": [
    "- Visualizes the historical trends in Microsoft's stock closing prices.\n",
    "- This visualization helps identify long-term patterns, volatility, and potential cycles in the stock's performance."
   ]
  },
  {
   "cell_type": "markdown",
   "id": "b606adea-8d67-457c-af62-57bdb57ca684",
   "metadata": {},
   "source": [
    "## 6. Feature Engineering"
   ]
  },
  {
   "cell_type": "code",
   "execution_count": 22,
   "id": "3acefb32-526c-47b3-8acd-3e44ac3074c7",
   "metadata": {
    "execution": {
     "iopub.execute_input": "2024-11-23T21:34:57.592771Z",
     "iopub.status.busy": "2024-11-23T21:34:57.592454Z",
     "iopub.status.idle": "2024-11-23T21:34:57.599538Z",
     "shell.execute_reply": "2024-11-23T21:34:57.598871Z",
     "shell.execute_reply.started": "2024-11-23T21:34:57.592749Z"
    }
   },
   "outputs": [],
   "source": [
    "# Add target column: 1 if tomorrow's price is higher, else 0\n",
    "msft_hist['Target'] = (msft_hist['Close'].shift(-1) > msft_hist['Close']).astype(int)\n",
    "\n",
    "# Add predictors from historical data\n",
    "msft_hist['Open-Close'] = (msft_hist['Open'] - msft_hist['Close']) / msft_hist['Close']\n",
    "msft_hist['High-Low'] = (msft_hist['High'] - msft_hist['Low']) / msft_hist['Low']\n"
   ]
  },
  {
   "cell_type": "markdown",
   "id": "f7c2c70d-bb80-459e-b3b7-81dde2e9f09e",
   "metadata": {},
   "source": [
    "**Added Features:**\n",
    "\n",
    " - `Target:` Binary indicator (1 if the next day’s closing price is higher, 0 otherwise).\n",
    " - `Open-Close:` Ratio of the difference between the opening and closing prices to the closing price.\n",
    " - `High-Low:` Ratio of the day’s high to low prices.\n",
    "- These features capture intraday price movements and trends, crucial for predictive models."
   ]
  },
  {
   "cell_type": "markdown",
   "id": "9bed8ac9-e6c8-4c94-9200-1c733e7d5e7f",
   "metadata": {},
   "source": [
    "## 7. Train-Test Split"
   ]
  },
  {
   "cell_type": "code",
   "execution_count": 23,
   "id": "e97b4055-c03b-4538-944b-5d8f8666ec67",
   "metadata": {
    "execution": {
     "iopub.execute_input": "2024-11-23T21:37:38.098992Z",
     "iopub.status.busy": "2024-11-23T21:37:38.098646Z",
     "iopub.status.idle": "2024-11-23T21:37:38.103218Z",
     "shell.execute_reply": "2024-11-23T21:37:38.102453Z",
     "shell.execute_reply.started": "2024-11-23T21:37:38.098970Z"
    }
   },
   "outputs": [],
   "source": [
    "# Split data into training and test sets\n",
    "train = msft_hist.iloc[:-100]\n",
    "test = msft_hist.iloc[-100:]\n",
    "\n",
    "predictors = ['Open-Close', 'High-Low', 'Close']\n"
   ]
  },
  {
   "cell_type": "markdown",
   "id": "a21c3e36-c1ff-40e6-9729-fd082ba6df4e",
   "metadata": {},
   "source": [
    "**Split Logic:**\n",
    "\n",
    "- `Training:` All but the last 100 rows.\n",
    "- `Testing:` Last 100 rows.\n",
    "- By separating the test set from recent data, the model is evaluated on unseen, realistic scenarios, avoiding data leakage."
   ]
  },
  {
   "cell_type": "markdown",
   "id": "4de669e2-b593-45d4-84e5-c147b9ed9063",
   "metadata": {},
   "source": [
    "## 8. Build and Train model"
   ]
  },
  {
   "cell_type": "code",
   "execution_count": 24,
   "id": "0cd4a977-5131-4d3c-8048-31adb7015e51",
   "metadata": {
    "execution": {
     "iopub.execute_input": "2024-11-23T21:39:18.337221Z",
     "iopub.status.busy": "2024-11-23T21:39:18.336885Z",
     "iopub.status.idle": "2024-11-23T21:39:20.441074Z",
     "shell.execute_reply": "2024-11-23T21:39:20.440407Z",
     "shell.execute_reply.started": "2024-11-23T21:39:18.337200Z"
    }
   },
   "outputs": [
    {
     "data": {
      "text/html": [
       "<style>#sk-container-id-1 {\n",
       "  /* Definition of color scheme common for light and dark mode */\n",
       "  --sklearn-color-text: black;\n",
       "  --sklearn-color-line: gray;\n",
       "  /* Definition of color scheme for unfitted estimators */\n",
       "  --sklearn-color-unfitted-level-0: #fff5e6;\n",
       "  --sklearn-color-unfitted-level-1: #f6e4d2;\n",
       "  --sklearn-color-unfitted-level-2: #ffe0b3;\n",
       "  --sklearn-color-unfitted-level-3: chocolate;\n",
       "  /* Definition of color scheme for fitted estimators */\n",
       "  --sklearn-color-fitted-level-0: #f0f8ff;\n",
       "  --sklearn-color-fitted-level-1: #d4ebff;\n",
       "  --sklearn-color-fitted-level-2: #b3dbfd;\n",
       "  --sklearn-color-fitted-level-3: cornflowerblue;\n",
       "\n",
       "  /* Specific color for light theme */\n",
       "  --sklearn-color-text-on-default-background: var(--sg-text-color, var(--theme-code-foreground, var(--jp-content-font-color1, black)));\n",
       "  --sklearn-color-background: var(--sg-background-color, var(--theme-background, var(--jp-layout-color0, white)));\n",
       "  --sklearn-color-border-box: var(--sg-text-color, var(--theme-code-foreground, var(--jp-content-font-color1, black)));\n",
       "  --sklearn-color-icon: #696969;\n",
       "\n",
       "  @media (prefers-color-scheme: dark) {\n",
       "    /* Redefinition of color scheme for dark theme */\n",
       "    --sklearn-color-text-on-default-background: var(--sg-text-color, var(--theme-code-foreground, var(--jp-content-font-color1, white)));\n",
       "    --sklearn-color-background: var(--sg-background-color, var(--theme-background, var(--jp-layout-color0, #111)));\n",
       "    --sklearn-color-border-box: var(--sg-text-color, var(--theme-code-foreground, var(--jp-content-font-color1, white)));\n",
       "    --sklearn-color-icon: #878787;\n",
       "  }\n",
       "}\n",
       "\n",
       "#sk-container-id-1 {\n",
       "  color: var(--sklearn-color-text);\n",
       "}\n",
       "\n",
       "#sk-container-id-1 pre {\n",
       "  padding: 0;\n",
       "}\n",
       "\n",
       "#sk-container-id-1 input.sk-hidden--visually {\n",
       "  border: 0;\n",
       "  clip: rect(1px 1px 1px 1px);\n",
       "  clip: rect(1px, 1px, 1px, 1px);\n",
       "  height: 1px;\n",
       "  margin: -1px;\n",
       "  overflow: hidden;\n",
       "  padding: 0;\n",
       "  position: absolute;\n",
       "  width: 1px;\n",
       "}\n",
       "\n",
       "#sk-container-id-1 div.sk-dashed-wrapped {\n",
       "  border: 1px dashed var(--sklearn-color-line);\n",
       "  margin: 0 0.4em 0.5em 0.4em;\n",
       "  box-sizing: border-box;\n",
       "  padding-bottom: 0.4em;\n",
       "  background-color: var(--sklearn-color-background);\n",
       "}\n",
       "\n",
       "#sk-container-id-1 div.sk-container {\n",
       "  /* jupyter's `normalize.less` sets `[hidden] { display: none; }`\n",
       "     but bootstrap.min.css set `[hidden] { display: none !important; }`\n",
       "     so we also need the `!important` here to be able to override the\n",
       "     default hidden behavior on the sphinx rendered scikit-learn.org.\n",
       "     See: https://github.com/scikit-learn/scikit-learn/issues/21755 */\n",
       "  display: inline-block !important;\n",
       "  position: relative;\n",
       "}\n",
       "\n",
       "#sk-container-id-1 div.sk-text-repr-fallback {\n",
       "  display: none;\n",
       "}\n",
       "\n",
       "div.sk-parallel-item,\n",
       "div.sk-serial,\n",
       "div.sk-item {\n",
       "  /* draw centered vertical line to link estimators */\n",
       "  background-image: linear-gradient(var(--sklearn-color-text-on-default-background), var(--sklearn-color-text-on-default-background));\n",
       "  background-size: 2px 100%;\n",
       "  background-repeat: no-repeat;\n",
       "  background-position: center center;\n",
       "}\n",
       "\n",
       "/* Parallel-specific style estimator block */\n",
       "\n",
       "#sk-container-id-1 div.sk-parallel-item::after {\n",
       "  content: \"\";\n",
       "  width: 100%;\n",
       "  border-bottom: 2px solid var(--sklearn-color-text-on-default-background);\n",
       "  flex-grow: 1;\n",
       "}\n",
       "\n",
       "#sk-container-id-1 div.sk-parallel {\n",
       "  display: flex;\n",
       "  align-items: stretch;\n",
       "  justify-content: center;\n",
       "  background-color: var(--sklearn-color-background);\n",
       "  position: relative;\n",
       "}\n",
       "\n",
       "#sk-container-id-1 div.sk-parallel-item {\n",
       "  display: flex;\n",
       "  flex-direction: column;\n",
       "}\n",
       "\n",
       "#sk-container-id-1 div.sk-parallel-item:first-child::after {\n",
       "  align-self: flex-end;\n",
       "  width: 50%;\n",
       "}\n",
       "\n",
       "#sk-container-id-1 div.sk-parallel-item:last-child::after {\n",
       "  align-self: flex-start;\n",
       "  width: 50%;\n",
       "}\n",
       "\n",
       "#sk-container-id-1 div.sk-parallel-item:only-child::after {\n",
       "  width: 0;\n",
       "}\n",
       "\n",
       "/* Serial-specific style estimator block */\n",
       "\n",
       "#sk-container-id-1 div.sk-serial {\n",
       "  display: flex;\n",
       "  flex-direction: column;\n",
       "  align-items: center;\n",
       "  background-color: var(--sklearn-color-background);\n",
       "  padding-right: 1em;\n",
       "  padding-left: 1em;\n",
       "}\n",
       "\n",
       "\n",
       "/* Toggleable style: style used for estimator/Pipeline/ColumnTransformer box that is\n",
       "clickable and can be expanded/collapsed.\n",
       "- Pipeline and ColumnTransformer use this feature and define the default style\n",
       "- Estimators will overwrite some part of the style using the `sk-estimator` class\n",
       "*/\n",
       "\n",
       "/* Pipeline and ColumnTransformer style (default) */\n",
       "\n",
       "#sk-container-id-1 div.sk-toggleable {\n",
       "  /* Default theme specific background. It is overwritten whether we have a\n",
       "  specific estimator or a Pipeline/ColumnTransformer */\n",
       "  background-color: var(--sklearn-color-background);\n",
       "}\n",
       "\n",
       "/* Toggleable label */\n",
       "#sk-container-id-1 label.sk-toggleable__label {\n",
       "  cursor: pointer;\n",
       "  display: block;\n",
       "  width: 100%;\n",
       "  margin-bottom: 0;\n",
       "  padding: 0.5em;\n",
       "  box-sizing: border-box;\n",
       "  text-align: center;\n",
       "}\n",
       "\n",
       "#sk-container-id-1 label.sk-toggleable__label-arrow:before {\n",
       "  /* Arrow on the left of the label */\n",
       "  content: \"▸\";\n",
       "  float: left;\n",
       "  margin-right: 0.25em;\n",
       "  color: var(--sklearn-color-icon);\n",
       "}\n",
       "\n",
       "#sk-container-id-1 label.sk-toggleable__label-arrow:hover:before {\n",
       "  color: var(--sklearn-color-text);\n",
       "}\n",
       "\n",
       "/* Toggleable content - dropdown */\n",
       "\n",
       "#sk-container-id-1 div.sk-toggleable__content {\n",
       "  max-height: 0;\n",
       "  max-width: 0;\n",
       "  overflow: hidden;\n",
       "  text-align: left;\n",
       "  /* unfitted */\n",
       "  background-color: var(--sklearn-color-unfitted-level-0);\n",
       "}\n",
       "\n",
       "#sk-container-id-1 div.sk-toggleable__content.fitted {\n",
       "  /* fitted */\n",
       "  background-color: var(--sklearn-color-fitted-level-0);\n",
       "}\n",
       "\n",
       "#sk-container-id-1 div.sk-toggleable__content pre {\n",
       "  margin: 0.2em;\n",
       "  border-radius: 0.25em;\n",
       "  color: var(--sklearn-color-text);\n",
       "  /* unfitted */\n",
       "  background-color: var(--sklearn-color-unfitted-level-0);\n",
       "}\n",
       "\n",
       "#sk-container-id-1 div.sk-toggleable__content.fitted pre {\n",
       "  /* unfitted */\n",
       "  background-color: var(--sklearn-color-fitted-level-0);\n",
       "}\n",
       "\n",
       "#sk-container-id-1 input.sk-toggleable__control:checked~div.sk-toggleable__content {\n",
       "  /* Expand drop-down */\n",
       "  max-height: 200px;\n",
       "  max-width: 100%;\n",
       "  overflow: auto;\n",
       "}\n",
       "\n",
       "#sk-container-id-1 input.sk-toggleable__control:checked~label.sk-toggleable__label-arrow:before {\n",
       "  content: \"▾\";\n",
       "}\n",
       "\n",
       "/* Pipeline/ColumnTransformer-specific style */\n",
       "\n",
       "#sk-container-id-1 div.sk-label input.sk-toggleable__control:checked~label.sk-toggleable__label {\n",
       "  color: var(--sklearn-color-text);\n",
       "  background-color: var(--sklearn-color-unfitted-level-2);\n",
       "}\n",
       "\n",
       "#sk-container-id-1 div.sk-label.fitted input.sk-toggleable__control:checked~label.sk-toggleable__label {\n",
       "  background-color: var(--sklearn-color-fitted-level-2);\n",
       "}\n",
       "\n",
       "/* Estimator-specific style */\n",
       "\n",
       "/* Colorize estimator box */\n",
       "#sk-container-id-1 div.sk-estimator input.sk-toggleable__control:checked~label.sk-toggleable__label {\n",
       "  /* unfitted */\n",
       "  background-color: var(--sklearn-color-unfitted-level-2);\n",
       "}\n",
       "\n",
       "#sk-container-id-1 div.sk-estimator.fitted input.sk-toggleable__control:checked~label.sk-toggleable__label {\n",
       "  /* fitted */\n",
       "  background-color: var(--sklearn-color-fitted-level-2);\n",
       "}\n",
       "\n",
       "#sk-container-id-1 div.sk-label label.sk-toggleable__label,\n",
       "#sk-container-id-1 div.sk-label label {\n",
       "  /* The background is the default theme color */\n",
       "  color: var(--sklearn-color-text-on-default-background);\n",
       "}\n",
       "\n",
       "/* On hover, darken the color of the background */\n",
       "#sk-container-id-1 div.sk-label:hover label.sk-toggleable__label {\n",
       "  color: var(--sklearn-color-text);\n",
       "  background-color: var(--sklearn-color-unfitted-level-2);\n",
       "}\n",
       "\n",
       "/* Label box, darken color on hover, fitted */\n",
       "#sk-container-id-1 div.sk-label.fitted:hover label.sk-toggleable__label.fitted {\n",
       "  color: var(--sklearn-color-text);\n",
       "  background-color: var(--sklearn-color-fitted-level-2);\n",
       "}\n",
       "\n",
       "/* Estimator label */\n",
       "\n",
       "#sk-container-id-1 div.sk-label label {\n",
       "  font-family: monospace;\n",
       "  font-weight: bold;\n",
       "  display: inline-block;\n",
       "  line-height: 1.2em;\n",
       "}\n",
       "\n",
       "#sk-container-id-1 div.sk-label-container {\n",
       "  text-align: center;\n",
       "}\n",
       "\n",
       "/* Estimator-specific */\n",
       "#sk-container-id-1 div.sk-estimator {\n",
       "  font-family: monospace;\n",
       "  border: 1px dotted var(--sklearn-color-border-box);\n",
       "  border-radius: 0.25em;\n",
       "  box-sizing: border-box;\n",
       "  margin-bottom: 0.5em;\n",
       "  /* unfitted */\n",
       "  background-color: var(--sklearn-color-unfitted-level-0);\n",
       "}\n",
       "\n",
       "#sk-container-id-1 div.sk-estimator.fitted {\n",
       "  /* fitted */\n",
       "  background-color: var(--sklearn-color-fitted-level-0);\n",
       "}\n",
       "\n",
       "/* on hover */\n",
       "#sk-container-id-1 div.sk-estimator:hover {\n",
       "  /* unfitted */\n",
       "  background-color: var(--sklearn-color-unfitted-level-2);\n",
       "}\n",
       "\n",
       "#sk-container-id-1 div.sk-estimator.fitted:hover {\n",
       "  /* fitted */\n",
       "  background-color: var(--sklearn-color-fitted-level-2);\n",
       "}\n",
       "\n",
       "/* Specification for estimator info (e.g. \"i\" and \"?\") */\n",
       "\n",
       "/* Common style for \"i\" and \"?\" */\n",
       "\n",
       ".sk-estimator-doc-link,\n",
       "a:link.sk-estimator-doc-link,\n",
       "a:visited.sk-estimator-doc-link {\n",
       "  float: right;\n",
       "  font-size: smaller;\n",
       "  line-height: 1em;\n",
       "  font-family: monospace;\n",
       "  background-color: var(--sklearn-color-background);\n",
       "  border-radius: 1em;\n",
       "  height: 1em;\n",
       "  width: 1em;\n",
       "  text-decoration: none !important;\n",
       "  margin-left: 1ex;\n",
       "  /* unfitted */\n",
       "  border: var(--sklearn-color-unfitted-level-1) 1pt solid;\n",
       "  color: var(--sklearn-color-unfitted-level-1);\n",
       "}\n",
       "\n",
       ".sk-estimator-doc-link.fitted,\n",
       "a:link.sk-estimator-doc-link.fitted,\n",
       "a:visited.sk-estimator-doc-link.fitted {\n",
       "  /* fitted */\n",
       "  border: var(--sklearn-color-fitted-level-1) 1pt solid;\n",
       "  color: var(--sklearn-color-fitted-level-1);\n",
       "}\n",
       "\n",
       "/* On hover */\n",
       "div.sk-estimator:hover .sk-estimator-doc-link:hover,\n",
       ".sk-estimator-doc-link:hover,\n",
       "div.sk-label-container:hover .sk-estimator-doc-link:hover,\n",
       ".sk-estimator-doc-link:hover {\n",
       "  /* unfitted */\n",
       "  background-color: var(--sklearn-color-unfitted-level-3);\n",
       "  color: var(--sklearn-color-background);\n",
       "  text-decoration: none;\n",
       "}\n",
       "\n",
       "div.sk-estimator.fitted:hover .sk-estimator-doc-link.fitted:hover,\n",
       ".sk-estimator-doc-link.fitted:hover,\n",
       "div.sk-label-container:hover .sk-estimator-doc-link.fitted:hover,\n",
       ".sk-estimator-doc-link.fitted:hover {\n",
       "  /* fitted */\n",
       "  background-color: var(--sklearn-color-fitted-level-3);\n",
       "  color: var(--sklearn-color-background);\n",
       "  text-decoration: none;\n",
       "}\n",
       "\n",
       "/* Span, style for the box shown on hovering the info icon */\n",
       ".sk-estimator-doc-link span {\n",
       "  display: none;\n",
       "  z-index: 9999;\n",
       "  position: relative;\n",
       "  font-weight: normal;\n",
       "  right: .2ex;\n",
       "  padding: .5ex;\n",
       "  margin: .5ex;\n",
       "  width: min-content;\n",
       "  min-width: 20ex;\n",
       "  max-width: 50ex;\n",
       "  color: var(--sklearn-color-text);\n",
       "  box-shadow: 2pt 2pt 4pt #999;\n",
       "  /* unfitted */\n",
       "  background: var(--sklearn-color-unfitted-level-0);\n",
       "  border: .5pt solid var(--sklearn-color-unfitted-level-3);\n",
       "}\n",
       "\n",
       ".sk-estimator-doc-link.fitted span {\n",
       "  /* fitted */\n",
       "  background: var(--sklearn-color-fitted-level-0);\n",
       "  border: var(--sklearn-color-fitted-level-3);\n",
       "}\n",
       "\n",
       ".sk-estimator-doc-link:hover span {\n",
       "  display: block;\n",
       "}\n",
       "\n",
       "/* \"?\"-specific style due to the `<a>` HTML tag */\n",
       "\n",
       "#sk-container-id-1 a.estimator_doc_link {\n",
       "  float: right;\n",
       "  font-size: 1rem;\n",
       "  line-height: 1em;\n",
       "  font-family: monospace;\n",
       "  background-color: var(--sklearn-color-background);\n",
       "  border-radius: 1rem;\n",
       "  height: 1rem;\n",
       "  width: 1rem;\n",
       "  text-decoration: none;\n",
       "  /* unfitted */\n",
       "  color: var(--sklearn-color-unfitted-level-1);\n",
       "  border: var(--sklearn-color-unfitted-level-1) 1pt solid;\n",
       "}\n",
       "\n",
       "#sk-container-id-1 a.estimator_doc_link.fitted {\n",
       "  /* fitted */\n",
       "  border: var(--sklearn-color-fitted-level-1) 1pt solid;\n",
       "  color: var(--sklearn-color-fitted-level-1);\n",
       "}\n",
       "\n",
       "/* On hover */\n",
       "#sk-container-id-1 a.estimator_doc_link:hover {\n",
       "  /* unfitted */\n",
       "  background-color: var(--sklearn-color-unfitted-level-3);\n",
       "  color: var(--sklearn-color-background);\n",
       "  text-decoration: none;\n",
       "}\n",
       "\n",
       "#sk-container-id-1 a.estimator_doc_link.fitted:hover {\n",
       "  /* fitted */\n",
       "  background-color: var(--sklearn-color-fitted-level-3);\n",
       "}\n",
       "</style><div id=\"sk-container-id-1\" class=\"sk-top-container\"><div class=\"sk-text-repr-fallback\"><pre>RandomForestClassifier(min_samples_split=10, random_state=42)</pre><b>In a Jupyter environment, please rerun this cell to show the HTML representation or trust the notebook. <br />On GitHub, the HTML representation is unable to render, please try loading this page with nbviewer.org.</b></div><div class=\"sk-container\" hidden><div class=\"sk-item\"><div class=\"sk-estimator fitted sk-toggleable\"><input class=\"sk-toggleable__control sk-hidden--visually\" id=\"sk-estimator-id-1\" type=\"checkbox\" checked><label for=\"sk-estimator-id-1\" class=\"sk-toggleable__label fitted sk-toggleable__label-arrow fitted\">&nbsp;&nbsp;RandomForestClassifier<a class=\"sk-estimator-doc-link fitted\" rel=\"noreferrer\" target=\"_blank\" href=\"https://scikit-learn.org/1.5/modules/generated/sklearn.ensemble.RandomForestClassifier.html\">?<span>Documentation for RandomForestClassifier</span></a><span class=\"sk-estimator-doc-link fitted\">i<span>Fitted</span></span></label><div class=\"sk-toggleable__content fitted\"><pre>RandomForestClassifier(min_samples_split=10, random_state=42)</pre></div> </div></div></div></div>"
      ],
      "text/plain": [
       "RandomForestClassifier(min_samples_split=10, random_state=42)"
      ]
     },
     "execution_count": 24,
     "metadata": {},
     "output_type": "execute_result"
    }
   ],
   "source": [
    "# Initialize and train the model\n",
    "model = RandomForestClassifier(n_estimators=100, min_samples_split=10, random_state=42)\n",
    "model.fit(train[predictors], train['Target'])\n"
   ]
  },
  {
   "cell_type": "markdown",
   "id": "134478d8-92c5-4bc3-a994-f12719693df5",
   "metadata": {},
   "source": [
    "- **Model:** `Random Forest Classifier` with 100 trees and a minimum sample split of 10.\n",
    "- Random Forest is robust to overfitting and can handle nonlinear relationships, making it suitable for financial data."
   ]
  },
  {
   "cell_type": "markdown",
   "id": "703750ad-b780-4fd8-9cea-64afb9a6a994",
   "metadata": {},
   "source": [
    "## 9. Evaluate Model Performance"
   ]
  },
  {
   "cell_type": "code",
   "execution_count": 25,
   "id": "d1920977-f503-4835-8a8b-d96d5eb04839",
   "metadata": {
    "execution": {
     "iopub.execute_input": "2024-11-23T21:40:11.628895Z",
     "iopub.status.busy": "2024-11-23T21:40:11.628558Z",
     "iopub.status.idle": "2024-11-23T21:40:11.644409Z",
     "shell.execute_reply": "2024-11-23T21:40:11.643668Z",
     "shell.execute_reply.started": "2024-11-23T21:40:11.628874Z"
    }
   },
   "outputs": [
    {
     "name": "stdout",
     "output_type": "stream",
     "text": [
      "Model Precision: 0.48\n"
     ]
    }
   ],
   "source": [
    "# Make predictions and calculate precision\n",
    "preds = model.predict(test[predictors])\n",
    "precision = precision_score(test['Target'], preds)\n",
    "\n",
    "print(f\"Model Precision: {precision:.2f}\")\n"
   ]
  },
  {
   "cell_type": "markdown",
   "id": "f8815b7b-d300-458a-a3a6-997b49ded32d",
   "metadata": {},
   "source": [
    "- **Metric:** Precision = 0.48.\n",
    "- Precision indicates that only 48% of predicted upward movements were correct. The low value suggests room for improvement, possibly by adding more predictive features or trying alternative models."
   ]
  },
  {
   "cell_type": "markdown",
   "id": "1a7902ef-b1ca-4efb-8f87-c05cfafbac03",
   "metadata": {},
   "source": [
    "## 10. Backtesting"
   ]
  },
  {
   "cell_type": "code",
   "execution_count": 26,
   "id": "7e175a72-1a0a-4389-91d9-8484e5d4ac68",
   "metadata": {
    "execution": {
     "iopub.execute_input": "2024-11-23T21:42:14.556600Z",
     "iopub.status.busy": "2024-11-23T21:42:14.556259Z",
     "iopub.status.idle": "2024-11-23T21:42:27.607458Z",
     "shell.execute_reply": "2024-11-23T21:42:27.606781Z",
     "shell.execute_reply.started": "2024-11-23T21:42:14.556577Z"
    }
   },
   "outputs": [],
   "source": [
    "# Backtest over multiple time frames\n",
    "def backtest(data, model, predictors, start=1000, step=750):\n",
    "    predictions = []\n",
    "    for i in range(start, len(data), step):\n",
    "        train = data.iloc[:i]\n",
    "        test = data.iloc[i:(i + step)]\n",
    "        model.fit(train[predictors], train['Target'])\n",
    "        preds = pd.Series(model.predict(test[predictors]), index=test.index)\n",
    "        combined = pd.concat({'Target': test['Target'], 'Predictions': preds}, axis=1)\n",
    "        predictions.append(combined)\n",
    "    return pd.concat(predictions)\n",
    "\n",
    "backtest_results = backtest(msft_hist, model, predictors)\n"
   ]
  },
  {
   "cell_type": "markdown",
   "id": "29f4de18-5e7a-4ee6-afa3-9dcf087a6de1",
   "metadata": {},
   "source": [
    "- **Method:**<br>\n",
    "    - Iterates over the dataset in chunks, ensuring predictions use only past data.\n",
    "- Backtesting simulates real-world conditions, ensuring the model isn’t overly optimistic by using future data for predictions."
   ]
  },
  {
   "cell_type": "markdown",
   "id": "e14cfcdd-a67f-4b1f-8f8a-a27eadaec257",
   "metadata": {},
   "source": [
    "## 11. Visualize the results"
   ]
  },
  {
   "cell_type": "code",
   "execution_count": 27,
   "id": "e470e52f-27a4-47c6-8447-a4f8dd096b82",
   "metadata": {
    "execution": {
     "iopub.execute_input": "2024-11-23T21:42:57.360620Z",
     "iopub.status.busy": "2024-11-23T21:42:57.360292Z",
     "iopub.status.idle": "2024-11-23T21:42:58.255571Z",
     "shell.execute_reply": "2024-11-23T21:42:58.254751Z",
     "shell.execute_reply.started": "2024-11-23T21:42:57.360599Z"
    }
   },
   "outputs": [
    {
     "data": {
      "image/png": "[encoded data removed]",
      "text/plain": [
       "<Figure size 1000x600 with 1 Axes>"
      ]
     },
     "metadata": {},
     "output_type": "display_data"
    }
   ],
   "source": [
    "# Plot predictions vs actuals\n",
    "backtest_results.plot(figsize=(10, 6), title=\"Model Predictions vs Actual Targets\")\n",
    "plt.show()\n"
   ]
  },
  {
   "cell_type": "markdown",
   "id": "2aa41cd9-b95e-4432-b2c1-62101bd04103",
   "metadata": {},
   "source": [
    "- Compares predictions with actual stock movements.\n",
    "- Visual evaluation highlights where the model aligns or deviates from actual trends, providing actionable insights for refinement."
   ]
  },
  {
   "cell_type": "markdown",
   "id": "1fdfb71d-5909-437d-8c87-84c9046ba98c",
   "metadata": {},
   "source": [
    "## 12. Conclusions:\n",
    "- The project successfully integrates historical data and machine learning to predict stock movements.\n",
    "- The model’s precision is modest, suggesting further feature engineering and experimentation with algorithms are needed.\n",
    "\n",
    "**Next Steps:**\n",
    "\n",
    "- Add features like rolling averages and trading volume trends.\n",
    "- Incorporate external data like market news or economic indicators.\n",
    "- Experiment with Gradient Boosting or deep learning models.\n"
   ]
  },
  {
   "cell_type": "code",
   "execution_count": null,
   "id": "4c0894f7-ecf8-4ac9-9caf-fb5d4f16a20b",
   "metadata": {},
   "outputs": [],
   "source": []
  }
 ],
 "metadata": {
  "kernelspec": {
   "display_name": "saturn (Python 3)",
   "language": "python",
   "name": "python3"
  },
  "language_info": {
   "codemirror_mode": {
    "name": "ipython",
    "version": 3
   },
   "file_extension": ".py",
   "mimetype": "text/x-python",
   "name": "python",
   "nbconvert_exporter": "python",
   "pygments_lexer": "ipython3",
   "version": "3.11.10"
  }
 },
 "nbformat": 4,
 "nbformat_minor": 5
}
